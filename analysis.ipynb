{
 "cells": [
  {
   "cell_type": "code",
   "execution_count": 20,
   "metadata": {
    "collapsed": true,
    "pycharm": {
     "name": "#%%\n"
    }
   },
   "outputs": [
    {
     "name": "stdout",
     "output_type": "stream",
     "text": [
      "1000\n",
      "67.6599\n"
     ]
    }
   ],
   "source": [
    "import math\n",
    "import random\n",
    "\n",
    "lambda_h = 0.4    # honest mining rate\n",
    "lambda_a = 0.2    # adversarial mining rate\n",
    "rate = lambda_h + lambda_a   # total mining rate\n",
    "p = lambda_h/rate  # probability of success\n",
    "k = 6 # confirmation depth\n",
    "prob_violation_start = (math.factorial(2*k + 1)/\n",
    "                        (math.factorial(k+1) * math.factorial(k))) * (lambda_a/(lambda_a+lambda_h))**(k+1) * (lambda_h/(lambda_a+lambda_h))**k\n",
    "\n",
    "# nmax = round(k * 3 * rate / lambda_a)\n",
    "nmax = 1000\n",
    "ntrials = 10000\n",
    "first_violation = 0\n",
    "\n",
    "for nt in range(0, ntrials):\n",
    "    a_num = 0\n",
    "    h_num = 0\n",
    "    num = 0\n",
    "\n",
    "    for count in range (1, nmax):\n",
    "        num = count\n",
    "        if random.random() < p:\n",
    "            h_num += 1\n",
    "        else:\n",
    "            a_num += 1\n",
    "\n",
    "        if h_num == (k+1):\n",
    "            a_num = 0\n",
    "            h_num = 0\n",
    "        elif a_num == (k+1):\n",
    "            break\n",
    "        else:\n",
    "            prob_violation = (math.factorial(2*k + 1 - a_num - h_num)/\n",
    "                              (math.factorial(k+1 - a_num) * math.factorial(k - h_num))) * (lambda_a/(lambda_a+lambda_h))**(k+1 - a_num) * (lambda_h/(lambda_a+lambda_h))**(k - h_num)\n",
    "\n",
    "            if prob_violation < prob_violation_start:\n",
    "                a_num = 0\n",
    "                h_num = 0\n",
    "\n",
    "    first_violation += num\n",
    "\n",
    "print(nmax)\n",
    "print(first_violation/ntrials)"
   ]
  },
  {
   "cell_type": "code",
   "execution_count": 144,
   "metadata": {},
   "outputs": [],
   "source": [
    "import pandas as pd\n",
    "\n",
    "data = pd.read_csv('analysis.csv')\n"
   ]
  },
  {
   "cell_type": "code",
   "execution_count": 22,
   "metadata": {},
   "outputs": [
    {
     "name": "stdout",
     "output_type": "stream",
     "text": [
      "                            OLS Regression Results                            \n",
      "==============================================================================\n",
      "Dep. Variable:        first_violation   R-squared:                       0.071\n",
      "Model:                            OLS   Adj. R-squared:                  0.052\n",
      "Method:                 Least Squares   F-statistic:                     3.719\n",
      "Date:                Sun, 12 Mar 2023   Prob (F-statistic):             0.0277\n",
      "Time:                        17:42:06   Log-Likelihood:                -1310.4\n",
      "No. Observations:                 101   AIC:                             2627.\n",
      "Df Residuals:                      98   BIC:                             2635.\n",
      "Df Model:                           2                                         \n",
      "Covariance Type:            nonrobust                                         \n",
      "==============================================================================\n",
      "                 coef    std err          t      P>|t|      [0.025      0.975]\n",
      "------------------------------------------------------------------------------\n",
      "Intercept   -1.43e+05   6.48e+04     -2.207      0.030   -2.72e+05   -1.44e+04\n",
      "p           2.121e+05   1.03e+05      2.060      0.042    7782.016    4.16e+05\n",
      "k           2057.2482   1465.601      1.404      0.164    -851.189    4965.685\n",
      "==============================================================================\n",
      "Omnibus:                      203.016   Durbin-Watson:                   1.974\n",
      "Prob(Omnibus):                  0.000   Jarque-Bera (JB):            27993.846\n",
      "Skew:                           8.686   Prob(JB):                         0.00\n",
      "Kurtosis:                      82.688   Cond. No.                         169.\n",
      "==============================================================================\n",
      "\n",
      "Notes:\n",
      "[1] Standard Errors assume that the covariance matrix of the errors is correctly specified.\n"
     ]
    }
   ],
   "source": [
    "import statsmodels.formula.api as smf\n",
    "\n",
    "model = smf.ols(formula='first_violation ~ p + k', data=data).fit()\n",
    " \n",
    "# model summary\n",
    "print(model.summary())"
   ]
  },
  {
   "cell_type": "code",
   "execution_count": 34,
   "metadata": {},
   "outputs": [
    {
     "name": "stdout",
     "output_type": "stream",
     "text": [
      "                            OLS Regression Results                            \n",
      "==============================================================================\n",
      "Dep. Variable:        first_violation   R-squared:                       0.097\n",
      "Model:                            OLS   Adj. R-squared:                  0.078\n",
      "Method:                 Least Squares   F-statistic:                     5.249\n",
      "Date:                Sun, 12 Mar 2023   Prob (F-statistic):            0.00683\n",
      "Time:                        17:45:18   Log-Likelihood:                -1309.0\n",
      "No. Observations:                 101   AIC:                             2624.\n",
      "Df Residuals:                      98   BIC:                             2632.\n",
      "Df Model:                           2                                         \n",
      "Covariance Type:            nonrobust                                         \n",
      "==============================================================================\n",
      "                 coef    std err          t      P>|t|      [0.025      0.975]\n",
      "------------------------------------------------------------------------------\n",
      "Intercept  -1.096e+05   4.04e+04     -2.711      0.008    -1.9e+05   -2.94e+04\n",
      "p_squared   2.478e+05   9.23e+04      2.685      0.009    6.46e+04    4.31e+05\n",
      "k           2026.0937   1437.849      1.409      0.162    -827.271    4879.459\n",
      "==============================================================================\n",
      "Omnibus:                      200.110   Durbin-Watson:                   1.985\n",
      "Prob(Omnibus):                  0.000   Jarque-Bera (JB):            26278.800\n",
      "Skew:                           8.460   Prob(JB):                         0.00\n",
      "Kurtosis:                      80.189   Cond. No.                         141.\n",
      "==============================================================================\n",
      "\n",
      "Notes:\n",
      "[1] Standard Errors assume that the covariance matrix of the errors is correctly specified.\n"
     ]
    }
   ],
   "source": [
    "df = data\n",
    "df['p_squared'] = data['p']**2\n",
    "\n",
    "model = smf.ols(formula='first_violation ~ p_squared + k', data=df).fit()\n",
    " \n",
    "# model summary\n",
    "print(model.summary())"
   ]
  },
  {
   "cell_type": "code",
   "execution_count": 54,
   "metadata": {},
   "outputs": [
    {
     "name": "stdout",
     "output_type": "stream",
     "text": [
      "                            OLS Regression Results                            \n",
      "==============================================================================\n",
      "Dep. Variable:        first_violation   R-squared:                       0.100\n",
      "Model:                            OLS   Adj. R-squared:                  0.082\n",
      "Method:                 Least Squares   F-statistic:                     5.403\n",
      "Date:                Sun, 12 Mar 2023   Prob (F-statistic):            0.00596\n",
      "Time:                        17:50:46   Log-Likelihood:                -1296.3\n",
      "No. Observations:                 100   AIC:                             2599.\n",
      "Df Residuals:                      97   BIC:                             2606.\n",
      "Df Model:                           2                                         \n",
      "Covariance Type:            nonrobust                                         \n",
      "==============================================================================\n",
      "                 coef    std err          t      P>|t|      [0.025      0.975]\n",
      "------------------------------------------------------------------------------\n",
      "Intercept  -1.414e+05   5.07e+04     -2.786      0.006   -2.42e+05   -4.07e+04\n",
      "p_squared   2.877e+05   9.83e+04      2.926      0.004    9.25e+04    4.83e+05\n",
      "k_log       1.739e+04   1.42e+04      1.225      0.224   -1.08e+04    4.56e+04\n",
      "==============================================================================\n",
      "Omnibus:                      197.209   Durbin-Watson:                   2.011\n",
      "Prob(Omnibus):                  0.000   Jarque-Bera (JB):            25028.392\n",
      "Skew:                           8.347   Prob(JB):                         0.00\n",
      "Kurtosis:                      78.685   Cond. No.                         27.0\n",
      "==============================================================================\n",
      "\n",
      "Notes:\n",
      "[1] Standard Errors assume that the covariance matrix of the errors is correctly specified.\n"
     ]
    },
    {
     "name": "stderr",
     "output_type": "stream",
     "text": [
      "/var/folders/my/p5qwqq_51pq8vxfjp9wy0tmc0000gn/T/ipykernel_4725/805361636.py:2: SettingWithCopyWarning: \n",
      "A value is trying to be set on a copy of a slice from a DataFrame.\n",
      "Try using .loc[row_indexer,col_indexer] = value instead\n",
      "\n",
      "See the caveats in the documentation: https://pandas.pydata.org/pandas-docs/stable/user_guide/indexing.html#returning-a-view-versus-a-copy\n",
      "  df['p_squared'] = data['p']**2\n",
      "/var/folders/my/p5qwqq_51pq8vxfjp9wy0tmc0000gn/T/ipykernel_4725/805361636.py:3: SettingWithCopyWarning: \n",
      "A value is trying to be set on a copy of a slice from a DataFrame.\n",
      "Try using .loc[row_indexer,col_indexer] = value instead\n",
      "\n",
      "See the caveats in the documentation: https://pandas.pydata.org/pandas-docs/stable/user_guide/indexing.html#returning-a-view-versus-a-copy\n",
      "  df['k_log'] = list(map(math.log, data['k'].to_list()))\n"
     ]
    }
   ],
   "source": [
    "df = data\n",
    "df['p_squared'] = data['p']**2\n",
    "df['k_log'] = list(map(math.log, data['k'].to_list()))\n",
    "\n",
    "model = smf.ols(formula='first_violation ~ p_squared + k_log', data=df).fit()\n",
    " \n",
    "# model summary\n",
    "print(model.summary())"
   ]
  },
  {
   "cell_type": "code",
   "execution_count": 51,
   "metadata": {},
   "outputs": [],
   "source": [
    "data = data.iloc[1:]"
   ]
  },
  {
   "cell_type": "code",
   "execution_count": 53,
   "metadata": {},
   "outputs": [
    {
     "name": "stderr",
     "output_type": "stream",
     "text": [
      "/var/folders/my/p5qwqq_51pq8vxfjp9wy0tmc0000gn/T/ipykernel_4725/3084424054.py:4: SettingWithCopyWarning: \n",
      "A value is trying to be set on a copy of a slice from a DataFrame.\n",
      "Try using .loc[row_indexer,col_indexer] = value instead\n",
      "\n",
      "See the caveats in the documentation: https://pandas.pydata.org/pandas-docs/stable/user_guide/indexing.html#returning-a-view-versus-a-copy\n",
      "  data['k_log'] = list(map(math.log, data['k'].to_list()))\n"
     ]
    }
   ],
   "source": [
    "import numpy as np\n",
    "data['k']\n",
    "list(map(math.log, data['k'].to_list()))\n",
    "data['k_log'] = list(map(math.log, data['k'].to_list()))"
   ]
  },
  {
   "cell_type": "code",
   "execution_count": 57,
   "metadata": {},
   "outputs": [],
   "source": [
    "import matplotlib.pyplot as plt"
   ]
  },
  {
   "cell_type": "code",
   "execution_count": 65,
   "metadata": {},
   "outputs": [
    {
     "data": {
      "image/png": "[encoded data removed]",
      "text/plain": [
       "<Figure size 640x480 with 1 Axes>"
      ]
     },
     "metadata": {},
     "output_type": "display_data"
    }
   ],
   "source": [
    "no_outlier_data = data[data['first_violation'] < 10000]\n",
    "plt.scatter(no_outlier_data['p_squared'], no_outlier_data['first_violation'])\n",
    "plt.show()"
   ]
  },
  {
   "cell_type": "code",
   "execution_count": 143,
   "metadata": {},
   "outputs": [
    {
     "ename": "ValueError",
     "evalue": "math domain error",
     "output_type": "error",
     "traceback": [
      "\u001b[0;31m---------------------------------------------------------------------------\u001b[0m",
      "\u001b[0;31mValueError\u001b[0m                                Traceback (most recent call last)",
      "Cell \u001b[0;32mIn [143], line 5\u001b[0m\n\u001b[1;32m      3\u001b[0m df[\u001b[39m'\u001b[39m\u001b[39mrt_p\u001b[39m\u001b[39m'\u001b[39m] \u001b[39m=\u001b[39m data[\u001b[39m'\u001b[39m\u001b[39mp\u001b[39m\u001b[39m'\u001b[39m] \u001b[39m*\u001b[39m\u001b[39m*\u001b[39m (\u001b[39m1\u001b[39m\u001b[39m/\u001b[39m\u001b[39m2\u001b[39m)\n\u001b[1;32m      4\u001b[0m df[\u001b[39m'\u001b[39m\u001b[39mk_squared\u001b[39m\u001b[39m'\u001b[39m] \u001b[39m=\u001b[39m data[\u001b[39m'\u001b[39m\u001b[39mk\u001b[39m\u001b[39m'\u001b[39m]\u001b[39m*\u001b[39m\u001b[39m*\u001b[39m\u001b[39m2\u001b[39m\n\u001b[0;32m----> 5\u001b[0m df[\u001b[39m'\u001b[39m\u001b[39mv_log\u001b[39m\u001b[39m'\u001b[39m] \u001b[39m=\u001b[39m \u001b[39mlist\u001b[39m(\u001b[39mmap\u001b[39m(math\u001b[39m.\u001b[39mlog, data[\u001b[39m'\u001b[39m\u001b[39mfirst_violation\u001b[39m\u001b[39m'\u001b[39m]\u001b[39m.\u001b[39mto_list()))\n\u001b[1;32m      6\u001b[0m df[\u001b[39m'\u001b[39m\u001b[39mp_e\u001b[39m\u001b[39m'\u001b[39m] \u001b[39m=\u001b[39m math\u001b[39m.\u001b[39me\u001b[39m*\u001b[39m\u001b[39m*\u001b[39mdata[\u001b[39m'\u001b[39m\u001b[39mp\u001b[39m\u001b[39m'\u001b[39m]\n\u001b[1;32m      7\u001b[0m df[\u001b[39m'\u001b[39m\u001b[39mp_cube\u001b[39m\u001b[39m'\u001b[39m] \u001b[39m=\u001b[39m df[\u001b[39m'\u001b[39m\u001b[39mp\u001b[39m\u001b[39m'\u001b[39m] \u001b[39m*\u001b[39m\u001b[39m*\u001b[39m \u001b[39m3\u001b[39m\n",
      "\u001b[0;31mValueError\u001b[0m: math domain error"
     ]
    }
   ],
   "source": [
    "df = data\n",
    "df['p_squared'] = data['p']**2\n",
    "df['rt_p'] = data['p'] ** (1/2)\n",
    "df['k_squared'] = data['k']**2\n",
    "df['v_log'] = list(map(math.log, data['first_violation'].to_list()))\n",
    "df['p_e'] = math.e**data['p']\n",
    "df['p_cube'] = df['p'] ** 3\n",
    "#df['p**k'] = data['p'] ** data[]\n",
    "\n",
    "model = smf.ols(formula='v_log ~ p_cube + k + p_e*k', data=df).fit()\n",
    " \n",
    "# model summary\n",
    "print(model.summary())"
   ]
  },
  {
   "cell_type": "code",
   "execution_count": 149,
   "metadata": {},
   "outputs": [
    {
     "name": "stdout",
     "output_type": "stream",
     "text": [
      "                            OLS Regression Results                            \n",
      "==============================================================================\n",
      "Dep. Variable:                  v_log   R-squared:                       0.984\n",
      "Model:                            OLS   Adj. R-squared:                  0.984\n",
      "Method:                 Least Squares   F-statistic:                 6.157e+04\n",
      "Date:                Mon, 13 Mar 2023   Prob (F-statistic):               0.00\n",
      "Time:                        16:45:24   Log-Likelihood:                -687.70\n",
      "No. Observations:                5000   AIC:                             1387.\n",
      "Df Residuals:                    4994   BIC:                             1426.\n",
      "Df Model:                           5                                         \n",
      "Covariance Type:            nonrobust                                         \n",
      "===========================================================================================\n",
      "                              coef    std err          t      P>|t|      [0.025      0.975]\n",
      "-------------------------------------------------------------------------------------------\n",
      "Intercept                   4.2373      0.111     38.179      0.000       4.020       4.455\n",
      "p_five_half_log             1.5540      0.176      8.840      0.000       1.209       1.899\n",
      "k                           1.1051      0.007    151.731      0.000       1.091       1.119\n",
      "p_five_half_log:k           1.2031      0.012    104.431      0.000       1.181       1.226\n",
      "p_log                       0.6216      0.070      8.840      0.000       0.484       0.759\n",
      "p_five_half_log:p_log       1.2583      0.221      5.701      0.000       0.826       1.691\n",
      "k:p_log                     0.4812      0.005    104.431      0.000       0.472       0.490\n",
      "p_five_half_log:k:p_log     1.2397      0.014     85.812      0.000       1.211       1.268\n",
      "==============================================================================\n",
      "Omnibus:                      303.362   Durbin-Watson:                   2.030\n",
      "Prob(Omnibus):                  0.000   Jarque-Bera (JB):              361.863\n",
      "Skew:                          -0.625   Prob(JB):                     2.65e-79\n",
      "Kurtosis:                       3.415   Cond. No.                     4.36e+17\n",
      "==============================================================================\n",
      "\n",
      "Notes:\n",
      "[1] Standard Errors assume that the covariance matrix of the errors is correctly specified.\n",
      "[2] The smallest eigenvalue is 1.91e-29. This might indicate that there are\n",
      "strong multicollinearity problems or that the design matrix is singular.\n"
     ]
    }
   ],
   "source": [
    "df = data\n",
    "df['p_squared'] = data['p']**2\n",
    "df['rt_p'] = data['p'] ** (1/2)\n",
    "df['k_squared'] = data['k']**2\n",
    "df['v_log'] = list(map(math.log, data['first_violation'].to_list()))\n",
    "df['p_e'] = math.e**data['p']\n",
    "df['p_cube'] = df['p'] ** 3\n",
    "#df['p**k'] = data['p'] ** data[]\n",
    "df['p_five_half'] = df['p'] ** (5/2)\n",
    "df['p_log'] = list(map(math.log, data['p'].to_list()))\n",
    "data['q'] = 1 - p\n",
    "df['q_log'] = list(map(math.log, data['q'].to_list()))\n",
    "df['q_half'] = data['q'] ** (1/2)\n",
    "df['p_half'] = data['p'] ** (1/2)\n",
    "df['p_five_half_log'] = list(map(math.log, df['p_five_half'].to_list()))\n",
    "df['p_cube_log'] = list(map(math.log, df['p_cube'].to_list()))\n",
    "df['p_half_log'] = list(map(math.log, df['p_half'].to_list()))\n",
    "df['q_half_log'] = list(map(math.log, df['q_half'].to_list()))\n",
    "\n",
    "model = smf.ols(formula='v_log ~ p_five_half_log*k*p_log', data=df).fit()\n",
    " \n",
    "# model summary\n",
    "print(model.summary())"
   ]
  },
  {
   "cell_type": "code",
   "execution_count": 96,
   "metadata": {},
   "outputs": [],
   "source": [
    "import pandas as pd\n",
    "from numpy import arange\n",
    "from sklearn.linear_model import Ridge\n",
    "from sklearn.linear_model import RidgeCV\n",
    "from sklearn.model_selection import RepeatedKFold\n",
    "\n"
   ]
  },
  {
   "cell_type": "code",
   "execution_count": 133,
   "metadata": {},
   "outputs": [
    {
     "name": "stdout",
     "output_type": "stream",
     "text": [
      "0.99\n"
     ]
    }
   ],
   "source": [
    "#define predictor and response variables\n",
    "X = df[[\"p_log\", \"q_log\", \"p_five_half_log\", \"p_cube_log\",\"p_half_log\",\"q_half_log\",\"k\"]]\n",
    "y = df['v_log']\n",
    "\n",
    "#define cross-validation method to evaluate model\n",
    "cv = RepeatedKFold(n_splits=10, n_repeats=3, random_state=1)\n",
    "\n",
    "#define model\n",
    "model = RidgeCV(alphas=arange(0.01, 1, 0.01), cv=cv, scoring='neg_mean_absolute_error')\n",
    "\n",
    "#fit model\n",
    "model.fit(X, y)\n",
    "\n",
    "#display lambda that produced the lowest test MSE\n",
    "print(model.alpha_)"
   ]
  },
  {
   "cell_type": "code",
   "execution_count": 134,
   "metadata": {},
   "outputs": [
    {
     "name": "stdout",
     "output_type": "stream",
     "text": [
      "                 0             0\n",
      "0            p_log  5.820880e-01\n",
      "1            q_log -1.115971e-29\n",
      "2  p_five_half_log  1.455220e+00\n",
      "3       p_cube_log  1.746264e+00\n",
      "4       p_half_log  2.910440e-01\n",
      "5       q_half_log -2.441315e-30\n",
      "6                k  2.079119e-01\n"
     ]
    }
   ],
   "source": [
    "coefficients = pd.concat([pd.DataFrame(X.columns),pd.DataFrame(np.transpose(model.coef_))], axis = 1)\n",
    "print(coefficients)"
   ]
  }
 ],
 "metadata": {
  "kernelspec": {
   "display_name": "Python 3",
   "language": "python",
   "name": "python3"
  },
  "language_info": {
   "codemirror_mode": {
    "name": "ipython",
    "version": 3
   },
   "file_extension": ".py",
   "mimetype": "text/x-python",
   "name": "python",
   "nbconvert_exporter": "python",
   "pygments_lexer": "ipython3",
   "version": "3.9.6"
  },
  "vscode": {
   "interpreter": {
    "hash": "397704579725e15f5c7cb49fe5f0341eb7531c82d19f2c29d197e8b64ab5776b"
   }
  }
 },
 "nbformat": 4,
 "nbformat_minor": 0
}
