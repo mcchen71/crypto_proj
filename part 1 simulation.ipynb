{
 "cells": [
  {
   "cell_type": "code",
   "execution_count": 32,
   "metadata": {
    "collapsed": true,
    "pycharm": {
     "name": "#%%\n"
    }
   },
   "outputs": [],
   "source": [
    "import math\n",
    "import random\n",
    "def run_diff_simulation(lambda_h, lambda_a, k):\n",
    "    lambda_h = 0.4    # honest mining rate\n",
    "    lambda_a = 0.1    # adversarial mining rate\n",
    "    rate = lambda_h + lambda_a   # total mining rate\n",
    "    p = lambda_h/rate  # probability of success\n",
    "    k = 20 # confirmation depth\n",
    "    prob_violation_start = (math.factorial(2*k + 1)/\n",
    "                            (math.factorial(k+1) * math.factorial(k))) * (lambda_a/(lambda_a+lambda_h))**(k+1) * (lambda_h/(lambda_a+lambda_h))**k\n",
    "\n",
    "    nmax = round(k * 3 * rate / lambda_a)\n",
    "    ntrials = 10000\n",
    "    first_violation = 0\n",
    "\n",
    "    for nt in range(0, ntrials):\n",
    "        a_num = 0\n",
    "        h_num = 0\n",
    "        num = 0\n",
    "\n",
    "        for count in range (1, nmax):\n",
    "            num = count\n",
    "            if random.random() < p:\n",
    "                h_num += 1\n",
    "            else:\n",
    "                a_num += 1\n",
    "\n",
    "            if h_num == (k+1):\n",
    "                a_num = 0\n",
    "                h_num = 0\n",
    "            elif a_num == (k+1):\n",
    "                break\n",
    "            else:\n",
    "                prob_violation = (math.factorial(2*k + 1 - a_num - h_num)/\n",
    "                                (math.factorial(k+1 - a_num) * math.factorial(k - h_num))) * (lambda_a/(lambda_a+lambda_h))**(k+1 - a_num) * (lambda_h/(lambda_a+lambda_h))**(k - h_num)\n",
    "\n",
    "                if prob_violation < prob_violation_start:\n",
    "                    a_num = 0\n",
    "                    h_num = 0\n",
    "\n",
    "        first_violation += num\n",
    "\n",
    "    print(first_violation/ntrials)"
   ]
  },
  {
   "cell_type": "markdown",
   "metadata": {},
   "source": []
  },
  {
   "cell_type": "code",
   "execution_count": null,
   "metadata": {},
   "outputs": [],
   "source": []
  },
  {
   "cell_type": "code",
   "execution_count": 44,
   "metadata": {},
   "outputs": [],
   "source": [
    "import math\n",
    "import random\n",
    "def run_one_simulation(lambda_h, lambda_a, k):\n",
    "    rate = lambda_a + lambda_h # total mining rate\n",
    "    p = lambda_h / rate # probability of success\n",
    "\n",
    "    prob_violation_start = (math.factorial(2*k + 1)/\n",
    "                            (math.factorial(k+1) * math.factorial(k))) * (lambda_a/(lambda_a+lambda_h))**(k+1) * (lambda_h/(lambda_a+lambda_h))**k\n",
    "\n",
    "    ntrials = 40\n",
    "    first_violation = 0\n",
    "\n",
    "    for nt in range(0, ntrials):\n",
    "        a_num = 0\n",
    "        h_num = 0\n",
    "        num = 0\n",
    "\n",
    "        while a_num != (k + 1): \n",
    "            num += 1\n",
    "            if random.random() < p:\n",
    "                h_num += 1\n",
    "            else:\n",
    "                a_num += 1\n",
    "\n",
    "            if h_num == (k+1):\n",
    "                a_num = 0\n",
    "                h_num = 0\n",
    "            elif a_num == (k+1):\n",
    "                continue\n",
    "            else:\n",
    "                prob_violation = (math.factorial(2*k + 1 - a_num - h_num)/\n",
    "                                (math.factorial(k+1 - a_num) * math.factorial(k - h_num))) * (lambda_a/(lambda_a+lambda_h))**(k+1 - a_num) * (lambda_h/(lambda_a+lambda_h))**(k - h_num)\n",
    "\n",
    "                if prob_violation < prob_violation_start:\n",
    "                    a_num = 0\n",
    "                    h_num = 0\n",
    "\n",
    "        first_violation += num\n",
    "\n",
    "    return rate, p, ntrials, first_violation/ntrials"
   ]
  },
  {
   "cell_type": "code",
   "execution_count": 34,
   "metadata": {},
   "outputs": [],
   "source": [
    "def randomize_parameters():\n",
    "    lambda_h = 0.4    # honest mining rate\n",
    "    lambda_a = random.uniform(0.1, .39) # adversarial mining rate\n",
    "    k = random.randint(2, 25) # confirmation depth\n",
    "    return lambda_h, lambda_a, k"
   ]
  },
  {
   "cell_type": "code",
   "execution_count": 39,
   "metadata": {},
   "outputs": [],
   "source": [
    "import pandas as pd\n",
    "import tqdm\n",
    "\n",
    "def run_simulations(num, name):\n",
    "    df = pd.DataFrame({\"exp_num\": [0], \"lambda_a\": [0], \"lambda_h\": [0], \"k\": [0], \"rate\": [0], \"p\": [0], \"ntrails\": [0], \"first_violation\": [0]})\n",
    "    for i in tqdm(range(num)):\n",
    "        print(i)\n",
    "        lambda_h, lambda_a, k = randomize_parameters()\n",
    "        rate, p, ntrials, first_violation = run_one_simulation(lambda_h, lambda_a, k)\n",
    "        new_df = pd.DataFrame({\"exp_num\": [i], \"lambda_a\": [lambda_a], \"lambda_h\": [lambda_h], \"k\": [k], \"rate\": [rate], \"p\": [p], \"ntrails\": [ntrials], \"first_violation\": [first_violation]}) \n",
    "        df = pd.concat([df, new_df])\n",
    "        if i % 0 == 500:\n",
    "            df.to_csv(f\"./data/{name}.csv\", index=False) \n",
    "    # save to csv\n",
    "    df.to_csv(f\"./data/{name}.csv\", index=False)\n"
   ]
  },
  {
   "cell_type": "code",
   "execution_count": 43,
   "metadata": {},
   "outputs": [],
   "source": [
    "random.seed(42)\n",
    "run_simulations(100, \"practice_check\")"
   ]
  },
  {
   "cell_type": "code",
   "execution_count": 46,
   "metadata": {},
   "outputs": [
    {
     "ename": "KeyboardInterrupt",
     "evalue": "",
     "output_type": "error",
     "traceback": [
      "\u001b[0;31m---------------------------------------------------------------------------\u001b[0m",
      "\u001b[0;31mKeyboardInterrupt\u001b[0m                         Traceback (most recent call last)",
      "\u001b[1;32m/Users/willcichowski/Desktop/cs334/crypto_proj/part 1 simulation.ipynb Cell 8\u001b[0m in \u001b[0;36m<cell line: 2>\u001b[0;34m()\u001b[0m\n\u001b[1;32m      <a href='vscode-notebook-cell:/Users/willcichowski/Desktop/cs334/crypto_proj/part%201%20simulation.ipynb#X12sZmlsZQ%3D%3D?line=0'>1</a>\u001b[0m random\u001b[39m.\u001b[39mseed(\u001b[39m30\u001b[39m)\n\u001b[0;32m----> <a href='vscode-notebook-cell:/Users/willcichowski/Desktop/cs334/crypto_proj/part%201%20simulation.ipynb#X12sZmlsZQ%3D%3D?line=1'>2</a>\u001b[0m run_simulations(\u001b[39m5000\u001b[39;49m, \u001b[39m\"\u001b[39;49m\u001b[39manalysis\u001b[39;49m\u001b[39m\"\u001b[39;49m)\n",
      "\u001b[1;32m/Users/willcichowski/Desktop/cs334/crypto_proj/part 1 simulation.ipynb Cell 8\u001b[0m in \u001b[0;36mrun_simulations\u001b[0;34m(num, name)\u001b[0m\n\u001b[1;32m      <a href='vscode-notebook-cell:/Users/willcichowski/Desktop/cs334/crypto_proj/part%201%20simulation.ipynb#X12sZmlsZQ%3D%3D?line=4'>5</a>\u001b[0m \u001b[39mfor\u001b[39;00m i \u001b[39min\u001b[39;00m \u001b[39mrange\u001b[39m(num):\n\u001b[1;32m      <a href='vscode-notebook-cell:/Users/willcichowski/Desktop/cs334/crypto_proj/part%201%20simulation.ipynb#X12sZmlsZQ%3D%3D?line=5'>6</a>\u001b[0m     lambda_h, lambda_a, k \u001b[39m=\u001b[39m randomize_parameters()\n\u001b[0;32m----> <a href='vscode-notebook-cell:/Users/willcichowski/Desktop/cs334/crypto_proj/part%201%20simulation.ipynb#X12sZmlsZQ%3D%3D?line=6'>7</a>\u001b[0m     rate, p, ntrials, first_violation \u001b[39m=\u001b[39m run_one_simulation(lambda_h, lambda_a, k)\n\u001b[1;32m      <a href='vscode-notebook-cell:/Users/willcichowski/Desktop/cs334/crypto_proj/part%201%20simulation.ipynb#X12sZmlsZQ%3D%3D?line=7'>8</a>\u001b[0m     new_df \u001b[39m=\u001b[39m pd\u001b[39m.\u001b[39mDataFrame({\u001b[39m\"\u001b[39m\u001b[39mexp_num\u001b[39m\u001b[39m\"\u001b[39m: [i], \u001b[39m\"\u001b[39m\u001b[39mlambda_a\u001b[39m\u001b[39m\"\u001b[39m: [lambda_a], \u001b[39m\"\u001b[39m\u001b[39mlambda_h\u001b[39m\u001b[39m\"\u001b[39m: [lambda_h], \u001b[39m\"\u001b[39m\u001b[39mk\u001b[39m\u001b[39m\"\u001b[39m: [k], \u001b[39m\"\u001b[39m\u001b[39mrate\u001b[39m\u001b[39m\"\u001b[39m: [rate], \u001b[39m\"\u001b[39m\u001b[39mp\u001b[39m\u001b[39m\"\u001b[39m: [p], \u001b[39m\"\u001b[39m\u001b[39mntrails\u001b[39m\u001b[39m\"\u001b[39m: [ntrials], \u001b[39m\"\u001b[39m\u001b[39mfirst_violation\u001b[39m\u001b[39m\"\u001b[39m: [first_violation]}) \n\u001b[1;32m      <a href='vscode-notebook-cell:/Users/willcichowski/Desktop/cs334/crypto_proj/part%201%20simulation.ipynb#X12sZmlsZQ%3D%3D?line=8'>9</a>\u001b[0m     df \u001b[39m=\u001b[39m pd\u001b[39m.\u001b[39mconcat([df, new_df])\n",
      "\u001b[1;32m/Users/willcichowski/Desktop/cs334/crypto_proj/part 1 simulation.ipynb Cell 8\u001b[0m in \u001b[0;36mrun_one_simulation\u001b[0;34m(lambda_h, lambda_a, k)\u001b[0m\n\u001b[1;32m     <a href='vscode-notebook-cell:/Users/willcichowski/Desktop/cs334/crypto_proj/part%201%20simulation.ipynb#X12sZmlsZQ%3D%3D?line=28'>29</a>\u001b[0m     \u001b[39mcontinue\u001b[39;00m\n\u001b[1;32m     <a href='vscode-notebook-cell:/Users/willcichowski/Desktop/cs334/crypto_proj/part%201%20simulation.ipynb#X12sZmlsZQ%3D%3D?line=29'>30</a>\u001b[0m \u001b[39melse\u001b[39;00m:\n\u001b[0;32m---> <a href='vscode-notebook-cell:/Users/willcichowski/Desktop/cs334/crypto_proj/part%201%20simulation.ipynb#X12sZmlsZQ%3D%3D?line=30'>31</a>\u001b[0m     prob_violation \u001b[39m=\u001b[39m (math\u001b[39m.\u001b[39;49mfactorial(\u001b[39m2\u001b[39;49m\u001b[39m*\u001b[39;49mk \u001b[39m+\u001b[39;49m \u001b[39m1\u001b[39;49m \u001b[39m-\u001b[39;49m a_num \u001b[39m-\u001b[39;49m h_num)\u001b[39m/\u001b[39;49m\n\u001b[1;32m     <a href='vscode-notebook-cell:/Users/willcichowski/Desktop/cs334/crypto_proj/part%201%20simulation.ipynb#X12sZmlsZQ%3D%3D?line=31'>32</a>\u001b[0m                     (math\u001b[39m.\u001b[39;49mfactorial(k\u001b[39m+\u001b[39;49m\u001b[39m1\u001b[39;49m \u001b[39m-\u001b[39;49m a_num) \u001b[39m*\u001b[39;49m math\u001b[39m.\u001b[39;49mfactorial(k \u001b[39m-\u001b[39;49m h_num))) \u001b[39m*\u001b[39m (lambda_a\u001b[39m/\u001b[39m(lambda_a\u001b[39m+\u001b[39mlambda_h))\u001b[39m*\u001b[39m\u001b[39m*\u001b[39m(k\u001b[39m+\u001b[39m\u001b[39m1\u001b[39m \u001b[39m-\u001b[39m a_num) \u001b[39m*\u001b[39m (lambda_h\u001b[39m/\u001b[39m(lambda_a\u001b[39m+\u001b[39mlambda_h))\u001b[39m*\u001b[39m\u001b[39m*\u001b[39m(k \u001b[39m-\u001b[39m h_num)\n\u001b[1;32m     <a href='vscode-notebook-cell:/Users/willcichowski/Desktop/cs334/crypto_proj/part%201%20simulation.ipynb#X12sZmlsZQ%3D%3D?line=33'>34</a>\u001b[0m     \u001b[39mif\u001b[39;00m prob_violation \u001b[39m<\u001b[39m prob_violation_start:\n\u001b[1;32m     <a href='vscode-notebook-cell:/Users/willcichowski/Desktop/cs334/crypto_proj/part%201%20simulation.ipynb#X12sZmlsZQ%3D%3D?line=34'>35</a>\u001b[0m         a_num \u001b[39m=\u001b[39m \u001b[39m0\u001b[39m\n",
      "\u001b[0;31mKeyboardInterrupt\u001b[0m: "
     ]
    }
   ],
   "source": [
    "random.seed(30)\n",
    "run_simulations(5000, \"analysis\")"
   ]
  }
 ],
 "metadata": {
  "kernelspec": {
   "display_name": "Python 3",
   "language": "python",
   "name": "python3"
  },
  "language_info": {
   "codemirror_mode": {
    "name": "ipython",
    "version": 3
   },
   "file_extension": ".py",
   "mimetype": "text/x-python",
   "name": "python",
   "nbconvert_exporter": "python",
   "pygments_lexer": "ipython3",
   "version": "3.9.12"
  }
 },
 "nbformat": 4,
 "nbformat_minor": 0
}
