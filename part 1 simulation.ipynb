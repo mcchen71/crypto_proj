{
 "cells": [
  {
   "cell_type": "code",
   "execution_count": 24,
   "metadata": {
    "collapsed": true,
    "pycharm": {
     "name": "#%%\n"
    }
   },
   "outputs": [
    {
     "name": "stdout",
     "output_type": "stream",
     "text": [
      "21.3046\n"
     ]
    }
   ],
   "source": [
    "import math\n",
    "import random\n",
    "\n",
    "lambda_h = 0.14    # honest mining rate\n",
    "lambda_a = 0.1    # adversarial mining rate\n",
    "rate = lambda_h + lambda_a   # total mining rate\n",
    "p = lambda_h/rate  # probability of success\n",
    "k = 5 # confirmation depth\n",
    "prob_violation_start = (math.factorial(2*k + 1)/\n",
    "                        (math.factorial(k+1) * math.factorial(k))) * (lambda_a/(lambda_a+lambda_h))**(k+1) * (lambda_h/(lambda_a+lambda_h))**k\n",
    "\n",
    "nmax = round(k * 3 * rate / lambda_a)\n",
    "ntrials = 10000\n",
    "first_violation = 0\n",
    "\n",
    "for nt in range(0, ntrials):\n",
    "    a_num = 0\n",
    "    h_num = 0\n",
    "    num = 0\n",
    "\n",
    "    for count in range (1, nmax):\n",
    "        num = count\n",
    "        if random.random() < p:\n",
    "            h_num += 1\n",
    "        else:\n",
    "            a_num += 1\n",
    "\n",
    "        if h_num == (k+1):\n",
    "            a_num = 0\n",
    "            h_num = 0\n",
    "        elif a_num == (k+1):\n",
    "            break\n",
    "        else:\n",
    "            prob_violation = (math.factorial(2*k + 1 - a_num - h_num)/\n",
    "                              (math.factorial(k+1 - a_num) * math.factorial(k - h_num))) * (lambda_a/(lambda_a+lambda_h))**(k+1 - a_num) * (lambda_h/(lambda_a+lambda_h))**(k - h_num)\n",
    "\n",
    "            if prob_violation < prob_violation_start:\n",
    "                a_num = 0\n",
    "                h_num = 0\n",
    "\n",
    "    first_violation += num\n",
    "\n",
    "print(first_violation/ntrials)"
   ]
  }
 ],
 "metadata": {
  "kernelspec": {
   "display_name": "Python 3",
   "language": "python",
   "name": "python3"
  },
  "language_info": {
   "codemirror_mode": {
    "name": "ipython",
    "version": 2
   },
   "file_extension": ".py",
   "mimetype": "text/x-python",
   "name": "python",
   "nbconvert_exporter": "python",
   "pygments_lexer": "ipython2",
   "version": "2.7.6"
  }
 },
 "nbformat": 4,
 "nbformat_minor": 0
}